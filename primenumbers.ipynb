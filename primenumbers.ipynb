{
 "cells": [
  {
   "cell_type": "markdown",
   "metadata": {},
   "source": [
    "<h3> We import numpy,matplotlib, and sklearn for math operations, plotting, and linear regression, respectively. </h3>"
   ]
  },
  {
   "cell_type": "code",
   "execution_count": 24,
   "metadata": {},
   "outputs": [],
   "source": [
    "import matplotlib.pyplot as plt \n",
    "import numpy as np\n",
    "from sklearn.linear_model import LinearRegression\n",
    "from sklearn.preprocessing import PolynomialFeatures"
   ]
  },
  {
   "cell_type": "markdown",
   "metadata": {},
   "source": [
    "<h3> We first define a function that checks if a number is a prime number, i.e. having only two distinct divisors: itself and 1. </h3>"
   ]
  },
  {
   "cell_type": "code",
   "execution_count": 25,
   "metadata": {},
   "outputs": [],
   "source": [
    "def primecheck(q): #checks if q is a prime number\n",
    "    \n",
    "    if isinstance(q,float) is True:\n",
    "        return False\n",
    "    \n",
    "    if q <= 1:\n",
    "        return False\n",
    "    \n",
    "    if q == 2:\n",
    "        return True\n",
    "    \n",
    "    if q == 3:\n",
    "        return True\n",
    "    \n",
    "    for i in range (2,q):\n",
    "    \n",
    "        if (q/i).is_integer() is True:\n",
    "            break\n",
    "    \n",
    "    if (q/i).is_integer() is False:\n",
    "        return True     \n",
    "\n",
    "    else:\n",
    "        return False"
   ]
  },
  {
   "cell_type": "markdown",
   "metadata": {},
   "source": [
    "<h3> The following function lists all primes between 1 and n. </h3>"
   ]
  },
  {
   "cell_type": "code",
   "execution_count": 26,
   "metadata": {},
   "outputs": [],
   "source": [
    "def listprimes(n): #lists primes between 1 and n\n",
    "    \n",
    "    if isinstance(n,float) is True:\n",
    "        print(\"n must be a positive integer > 2\")\n",
    "        return None \n",
    "    \n",
    "    if n < 3:\n",
    "        print(\"n must be a positive integer > 2\")\n",
    "        return None\n",
    "    \n",
    "    if n == 3:\n",
    "        return 2\n",
    "    \n",
    "    for i in range (0,n):\n",
    "        \n",
    "        if primecheck(i) is True:\n",
    "            print(i)\n",
    "            "
   ]
  },
  {
   "cell_type": "markdown",
   "metadata": {},
   "source": [
    "<h3> The following function counts all the prime numbers between 1 and m. </h3>"
   ]
  },
  {
   "cell_type": "code",
   "execution_count": 27,
   "metadata": {},
   "outputs": [],
   "source": [
    "def primecount(m): #counts the number of primes between 1 and m\n",
    "    \n",
    "    if isinstance(m,float) is True:\n",
    "        print(\"m must be a positive integer > 2\")\n",
    "        return None\n",
    "    \n",
    "    if m < 3:\n",
    "        print(\"m must be a positive integer > 2\")\n",
    "        return None\n",
    "    \n",
    "    if m == 3:\n",
    "        return 1\n",
    "    \n",
    "    j = 0\n",
    "    \n",
    "    for i in range (0,m):\n",
    "        \n",
    "        if primecheck(i) is True:\n",
    "            j = j+1\n",
    "            \n",
    "    return j"
   ]
  },
  {
   "cell_type": "markdown",
   "metadata": {},
   "source": [
    "<h3> The following function sums all the prime numbers between 1 and p. </h3>"
   ]
  },
  {
   "cell_type": "code",
   "execution_count": 28,
   "metadata": {},
   "outputs": [],
   "source": [
    "def sumprimes(p): #sums all primes between 1 and p\n",
    "    \n",
    "    if isinstance(p,float) is True:\n",
    "        print(\"p must be a positive integer > 3\")\n",
    "        return None\n",
    "    \n",
    "    if p < 3: \n",
    "        print(\"p must be a positive integer > 3\")\n",
    "        return None\n",
    "    \n",
    "    j = 0\n",
    "    \n",
    "    for i in range (0,p):\n",
    "        \n",
    "        if primecheck(i) is True:\n",
    "            j = j + i\n",
    "\n",
    "    return j"
   ]
  },
  {
   "cell_type": "markdown",
   "metadata": {},
   "source": [
    "<h3> The following function gives the nth prime number. </h3>"
   ]
  },
  {
   "cell_type": "code",
   "execution_count": 29,
   "metadata": {},
   "outputs": [],
   "source": [
    "def nthprime(n): #gives nth prime  \n",
    "    \n",
    "    i = 0\n",
    "    j = 0\n",
    "\n",
    "    while j<n:\n",
    "        \n",
    "        i = i+1\n",
    "    \n",
    "        if primecheck(i) is True:\n",
    "            j=j+1\n",
    "\n",
    "    return i"
   ]
  },
  {
   "cell_type": "markdown",
   "metadata": {},
   "source": [
    "<h3> The following function gives the sum of the first prime numbers. </h3>"
   ]
  },
  {
   "cell_type": "code",
   "execution_count": 30,
   "metadata": {},
   "outputs": [],
   "source": [
    "def sumfirstprimes(n): #gives sum of first n primes\n",
    "    \n",
    "    if isinstance(n,float) is True:\n",
    "        print(\"n must be a positive integer\")\n",
    "        return None\n",
    "    \n",
    "    if n<1:\n",
    "        print(\"n must be a positive integer\")\n",
    "        return None\n",
    "\n",
    "    i = 0\n",
    "    j = 0\n",
    "    k = 0\n",
    "    \n",
    "    while j!=n:\n",
    "        \n",
    "        i = i+1\n",
    "    \n",
    "        if primecheck(i) is True:\n",
    "        \n",
    "            j=j+1\n",
    "            k = i+k\n",
    "            \n",
    "    return k"
   ]
  },
  {
   "cell_type": "markdown",
   "metadata": {},
   "source": [
    "<h3> We will use the following function to generate points for the sum of the first 100 primes. </h3>"
   ]
  },
  {
   "cell_type": "code",
   "execution_count": 31,
   "metadata": {},
   "outputs": [
    {
     "data": {
      "text/plain": [
       "<Figure size 576x576 with 0 Axes>"
      ]
     },
     "metadata": {},
     "output_type": "display_data"
    }
   ],
   "source": [
    "def listfirstprimesums(n):\n",
    "    \n",
    "    if isinstance(n,float) is True:\n",
    "        print(\"n must be a positive integer\")\n",
    "        return None\n",
    "    \n",
    "    if n<1:\n",
    "        print(\"n must be a positive integer\")\n",
    "        return None\n",
    "    \n",
    "    sumlist = []\n",
    "\n",
    "    for i in range(1,n+1,1):\n",
    "        y = sumfirstprimes(i)\n",
    "        sumlist.append(y)\n",
    "\n",
    "    return(sumlist)\n",
    "\n",
    "n = 100\n",
    "plt.figure(figsize=(8,8))\n",
    "x = np.array([*range(1,n+1,1)])\n",
    "y = listfirstprimesums(n)"
   ]
  },
  {
   "cell_type": "markdown",
   "metadata": {},
   "source": [
    "<h3> We will use polynomial regression to predict the sum of first primes (n=2,n=3). Bach and Shallit (1996) suggested that \n",
    "the sum of first primes $\\sim \\frac{n^2}{2}\\ln(n).$ </h3>"
   ]
  },
  {
   "cell_type": "code",
   "execution_count": 32,
   "metadata": {},
   "outputs": [
    {
     "name": "stdout",
     "output_type": "stream",
     "text": [
      "[  0.         -43.8478164    2.80661222]\n",
      "296.8622758193842\n",
      "[ 0.00000000e+00 -1.81853615e+01  2.17455260e+00  4.17201068e-03]\n",
      "75.51499773589512\n"
     ]
    },
    {
     "data": {
      "text/plain": [
       "<matplotlib.legend.Legend at 0x4d5faf0>"
      ]
     },
     "execution_count": 32,
     "metadata": {},
     "output_type": "execute_result"
    },
    {
     "data": {
      "image/png": "[encoded data removed]",
      "text/plain": [
       "<Figure size 432x288 with 1 Axes>"
      ]
     },
     "metadata": {
      "needs_background": "light"
     },
     "output_type": "display_data"
    }
   ],
   "source": [
    "#Bach and Shallit\n",
    "x1 = np.linspace(1,n)\n",
    "y1 = (0.5)*(x1**2)*np.log(x1)\n",
    "\n",
    "\n",
    "X = x.reshape(-1,1)\n",
    "# Change the order here. degree is same as M\n",
    "poly2 = PolynomialFeatures(degree=2)\n",
    "poly3 = PolynomialFeatures(degree=3)\n",
    "\n",
    "\n",
    "# Fit a Polynomial Curve(n=2)\n",
    "# Also prints the coefficients\n",
    "X_poly2 = poly2.fit_transform(X)\n",
    "poly2.fit(X_poly2, y)\n",
    "linreg = LinearRegression()\n",
    "linreg.fit(X_poly2, y)\n",
    "y_pred2 = linreg.predict(X_poly2)\n",
    "print(linreg.coef_)\n",
    "print(linreg.intercept_)\n",
    "\n",
    "\n",
    "# Fit a Polynomial Curve(n=3)\n",
    "X_poly3 = poly3.fit_transform(X)\n",
    "poly3.fit(X_poly3, y)\n",
    "linreg = LinearRegression()\n",
    "linreg.fit(X_poly3, y)\n",
    "y_pred3 = linreg.predict(X_poly3)\n",
    "print(linreg.coef_)\n",
    "print(linreg.intercept_)\n",
    "\n",
    "\n",
    "plt.ylim(top=10000,bottom=0) \n",
    "plt.xlim(left=0,right=100)\n",
    "plt.plot(x1,y1,color = 'red', linewidth=2, label = 'Bach and Shallit (1996)')\n",
    "plt.plot(x, y_pred2, color='darkgreen', linewidth=2, label = 'n=2')\n",
    "plt.plot(x, y_pred3, color='darkblue', linewidth=2, label = 'n=3')\n",
    "plt.plot(x,y,'X', color='black', markersize=4, label = 'Sum of first primes')\n",
    "plt.legend(loc = 'upper left',prop={'size': 10})"
   ]
  },
  {
   "cell_type": "markdown",
   "metadata": {},
   "source": [
    "<h3> Here we see that the sum of first primes $\\sum P$ can be predicted by the following polynomials: <br/> <br/> \n",
    "$\n",
    "\\begin{equation}\n",
    "\\sum P \\sim a_3n^3 + a_2n^2 + a_1n + a_0 \\\\\n",
    "\\sum P \\sim b_2n^2 + b_1n + b_0\n",
    "\\end{equation}\n",
    "$\n",
    "<br/> <br/> where, $a_3, a_2, a_1, a_0 =$ 4.17201068e-03, 2.17455260, -1.81853615e+01, and 75.51499773589512, respectively. Similarly, $b_2, b_1, b_0 =$ 2.80661222, -43.8478164, and 296.8622758193842, respectively. \n",
    "</h3>"
   ]
  },
  {
   "cell_type": "code",
   "execution_count": null,
   "metadata": {},
   "outputs": [],
   "source": []
  }
 ],
 "metadata": {
  "kernelspec": {
   "display_name": "Python 3",
   "language": "python",
   "name": "python3"
  },
  "language_info": {
   "codemirror_mode": {
    "name": "ipython",
    "version": 3
   },
   "file_extension": ".py",
   "mimetype": "text/x-python",
   "name": "python",
   "nbconvert_exporter": "python",
   "pygments_lexer": "ipython3",
   "version": "3.7.6"
  }
 },
 "nbformat": 4,
 "nbformat_minor": 4
}
